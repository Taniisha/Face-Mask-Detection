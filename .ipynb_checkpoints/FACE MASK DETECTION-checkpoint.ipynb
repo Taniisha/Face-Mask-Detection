{
 "cells": [
  {
   "cell_type": "code",
   "execution_count": 1,
   "metadata": {},
   "outputs": [],
   "source": [
    "from tensorflow.keras.models import load_model"
   ]
  },
  {
   "cell_type": "code",
   "execution_count": 2,
   "metadata": {},
   "outputs": [],
   "source": [
    "import cv2\n",
    "import numpy as np\n",
    "import tkinter\n",
    "from tkinter import messagebox\n",
    "import smtplib\n"
   ]
  },
  {
   "cell_type": "code",
   "execution_count": 3,
   "metadata": {},
   "outputs": [
    {
     "data": {
      "text/plain": [
       "''"
      ]
     },
     "execution_count": 3,
     "metadata": {},
     "output_type": "execute_result"
    }
   ],
   "source": [
    "#initialize tkinter\n",
    "\n",
    "root = tkinter.Tk()    #to create root window with basic widgets\n",
    "root.withdraw()        #to hide this window"
   ]
  },
  {
   "cell_type": "code",
   "execution_count": 4,
   "metadata": {},
   "outputs": [],
   "source": [
    "#loading the trained DL model\n",
    "\n",
    "model = load_model('mask_detection.h5')"
   ]
  },
  {
   "cell_type": "code",
   "execution_count": 17,
   "metadata": {},
   "outputs": [],
   "source": [
    "#classifier to detect face\n",
    "\n",
    "face_det_classifier = cv2.CascadeClassifier(\"haarcascade_frontalface_default.xml\")"
   ]
  },
  {
   "cell_type": "code",
   "execution_count": 27,
   "metadata": {},
   "outputs": [],
   "source": [
    "#capture video using webcam\n",
    "vid_source = cv2.VideoCapture(0)"
   ]
  },
  {
   "cell_type": "code",
   "execution_count": 28,
   "metadata": {},
   "outputs": [],
   "source": [
    "text_dict = {0 : \"MASKED\" , 1 : \"NO MASK\"}\n",
    "rect_color_dict = {0 : (0,255,0) , 1 : (0,0,255)}"
   ]
  },
  {
   "cell_type": "code",
   "execution_count": 29,
   "metadata": {},
   "outputs": [],
   "source": [
    "while(vid_source.isOpened()):\n",
    "    ret , img = vid_source.read()\n",
    "    grayscale_img = cv2.cvtColor(img,cv2.COLOR_BGR2GRAY)\n",
    "    faces = face_det_classifier.detectMultiScale(grayscale_img , 1.3 , 5)\n",
    "    \n",
    "    for (x,y,w,h) in faces:\n",
    "        face_img = grayscale_img[y:y+h , x:x+w ]\n",
    "        resized_img = cv2.resize(face_img ,(112,112))\n",
    "        normalized_img = resized_img/255.0\n",
    "        reshaped_img = np.reshape(normalized_img,(1,112,112,1))\n",
    "        result = model.predict(reshaped_img)\n",
    "        \n",
    "        label = np.argmax(result , axis=1)[0]      #argmax method is same as np.predict_classes which will predict the output as class, here our image is predicted by our model\n",
    "        \n",
    "        cv2.rectangle(img , (x,y) , (x+w,y+h) , rect_color_dict[label],4)\n",
    "        #cv2.rectangle(img , (x,y-40) , (x+w,y+h) , rect_color_dict[label],-1)\n",
    "        cv2.putText(img,text_dict[label] , (x,y-10) , cv2.FONT_HERSHEY_SIMPLEX , 0.8 , (28,252,249) , 2)\n",
    "        \n",
    "    cv2.imshow(\"mask_detection\" , img)\n",
    "    key = cv2.waitKey(1)\n",
    "    if(key == 27):\n",
    "        break\n",
    "cv2.destroyAllWindows()\n",
    "vid_source.release()\n",
    "            \n",
    "        "
   ]
  },
  {
   "cell_type": "code",
   "execution_count": null,
   "metadata": {},
   "outputs": [],
   "source": []
  },
  {
   "cell_type": "code",
   "execution_count": null,
   "metadata": {},
   "outputs": [],
   "source": []
  },
  {
   "cell_type": "code",
   "execution_count": null,
   "metadata": {},
   "outputs": [],
   "source": []
  }
 ],
 "metadata": {
  "kernelspec": {
   "display_name": "Python 3",
   "language": "python",
   "name": "python3"
  },
  "language_info": {
   "codemirror_mode": {
    "name": "ipython",
    "version": 3
   },
   "file_extension": ".py",
   "mimetype": "text/x-python",
   "name": "python",
   "nbconvert_exporter": "python",
   "pygments_lexer": "ipython3",
   "version": "3.8.3"
  }
 },
 "nbformat": 4,
 "nbformat_minor": 4
}
